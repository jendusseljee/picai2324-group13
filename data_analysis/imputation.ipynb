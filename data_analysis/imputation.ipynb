{
  "cells": [
    {
      "cell_type": "code",
      "execution_count": 1,
      "metadata": {
        "id": "VJ8h2qFA384W"
      },
      "outputs": [
        {
          "name": "stderr",
          "output_type": "stream",
          "text": [
            "C:\\Users\\kirst\\AppData\\Local\\Temp\\ipykernel_25368\\3949407117.py:1: DeprecationWarning: \n",
            "Pyarrow will become a required dependency of pandas in the next major release of pandas (pandas 3.0),\n",
            "(to allow more performant data types, such as the Arrow string type, and better interoperability with other libraries)\n",
            "but was not found to be installed on your system.\n",
            "If this would cause problems for you,\n",
            "please provide us feedback at https://github.com/pandas-dev/pandas/issues/54466\n",
            "        \n",
            "  import pandas as pd\n"
          ]
        }
      ],
      "source": [
        "import pandas as pd\n",
        "import numpy as np\n",
        "import math\n",
        "import matplotlib.pyplot as plt\n",
        "from sklearn.impute import KNNImputer # For imputing missing values using K-Nearest Neighbors\n",
        "import random\n",
        "from sklearn.experimental import enable_iterative_imputer\n",
        "from sklearn.impute import IterativeImputer\n",
        "from sklearn.linear_model import BayesianRidge"
      ]
    },
    {
      "cell_type": "code",
      "execution_count": 2,
      "metadata": {
        "colab": {
          "base_uri": "https://localhost:8080/"
        },
        "id": "g8Gt5TFG5vuC",
        "outputId": "9df9b92b-8770-4353-cc39-24d5b2eebc6a"
      },
      "outputs": [
        {
          "name": "stdout",
          "output_type": "stream",
          "text": [
            "1500\n",
            "patient_id           0\n",
            "study_id             0\n",
            "mri_date             0\n",
            "patient_age          0\n",
            "psa                 40\n",
            "psad               451\n",
            "prostate_volume     27\n",
            "histopath_type     499\n",
            "lesion_GS          499\n",
            "lesion_ISUP        499\n",
            "case_ISUP            0\n",
            "case_csPCa           0\n",
            "dtype: int64\n",
            "   patient_id  study_id    mri_date  patient_age   psa  psad  prostate_volume  \\\n",
            "0       10000   1000000  2019-07-02           73   7.7   NaN             55.0   \n",
            "1       10001   1000001  2016-05-27           64   8.7  0.09            102.0   \n",
            "2       10002   1000002  2021-04-18           58   4.2  0.06             74.0   \n",
            "3       10003   1000003  2019-04-05           72  13.0   NaN             71.5   \n",
            "4       10004   1000004  2020-10-21           67   8.0  0.10             78.0   \n",
            "\n",
            "  histopath_type lesion_GS lesion_ISUP  case_ISUP case_csPCa  \n",
            "0           MRBx       0+0           0          0         NO  \n",
            "1            NaN       NaN         NaN          0         NO  \n",
            "2            NaN       NaN         NaN          0         NO  \n",
            "3          SysBx       0+0           0          0         NO  \n",
            "4     SysBx+MRBx   0+0,0+0         0,0          0         NO  \n"
          ]
        },
        {
          "data": {
            "text/plain": [
              "Index(['psa', 'psad', 'prostate_volume', 'histopath_type', 'lesion_GS',\n",
              "       'lesion_ISUP'],\n",
              "      dtype='object')"
            ]
          },
          "execution_count": 2,
          "metadata": {},
          "output_type": "execute_result"
        }
      ],
      "source": [
        "random.seed(10)\n",
        "\n",
        "df = pd.read_csv('marksheet.csv')\n",
        "print(len(df))\n",
        "print(df.isna().sum())\n",
        "print(df.head())\n",
        "df.columns[df.isnull().any()]"
      ]
    },
    {
      "cell_type": "code",
      "execution_count": 3,
      "metadata": {},
      "outputs": [
        {
          "data": {
            "text/plain": [
              "Index(['psa', 'psad', 'prostate_volume'], dtype='object')"
            ]
          },
          "execution_count": 3,
          "metadata": {},
          "output_type": "execute_result"
        }
      ],
      "source": [
        "# We drop the biopsy columns\n",
        "df.drop(['histopath_type', 'lesion_GS', 'lesion_ISUP', 'case_ISUP'], inplace=True, axis=1)\n",
        "df.columns[df.isnull().any()]\n"
      ]
    },
    {
      "cell_type": "code",
      "execution_count": 4,
      "metadata": {},
      "outputs": [],
      "source": [
        "# If 2 out of ['psa', 'psad', 'prostate_volume'] are present, we can calculate the remaining value\n",
        "def fill_missing(row):\n",
        "    nr_missing = row.isnull().sum()\n",
        "    if nr_missing != 1:\n",
        "        return row\n",
        "    elif pd.notnull(row['psa']) and pd.notnull(row['prostate_volume']):\n",
        "        row['psad'] = round(row['psa'] / row['prostate_volume'], 2)\n",
        "        return row\n",
        "    elif pd.notnull(row['psa']) and pd.notnull(row['psad']):\n",
        "        row['prostate_volume'] = round(row['psa'] / row['psad'], 2)\n",
        "        return row\n",
        "    else:\n",
        "        row['psa'] = round(row['psad'] * row['prostate_volume'], 2)\n",
        "        return row\n",
        "\n",
        "# Apply the function to fill missing values\n",
        "df = df.apply(fill_missing, axis=1)"
      ]
    },
    {
      "cell_type": "code",
      "execution_count": 5,
      "metadata": {},
      "outputs": [
        {
          "name": "stdout",
          "output_type": "stream",
          "text": [
            "patient_id          0\n",
            "study_id            0\n",
            "mri_date            0\n",
            "patient_age         0\n",
            "psa                33\n",
            "psad               52\n",
            "prostate_volume    25\n",
            "case_csPCa          0\n",
            "dtype: int64\n"
          ]
        }
      ],
      "source": [
        "print(df.isna().sum())\n",
        "df.to_csv('marksheet_psad_computed.csv', index=False)"
      ]
    },
    {
      "cell_type": "code",
      "execution_count": 6,
      "metadata": {
        "colab": {
          "base_uri": "https://localhost:8080/"
        },
        "id": "L8drcryj__yd",
        "outputId": "c0d77f83-f1e2-4bf4-da77-fa0f32bff867"
      },
      "outputs": [
        {
          "name": "stdout",
          "output_type": "stream",
          "text": [
            "1500\n",
            "patient_id         0\n",
            "study_id           0\n",
            "mri_date           0\n",
            "patient_age        0\n",
            "psa                0\n",
            "psad               0\n",
            "prostate_volume    0\n",
            "case_csPCa         0\n",
            "dtype: int64\n",
            "   patient_id  study_id    mri_date  patient_age   psa  psad  prostate_volume  \\\n",
            "0       10000   1000000  2019-07-02         73.0   7.7  0.14             55.0   \n",
            "1       10001   1000001  2016-05-27         64.0   8.7  0.09            102.0   \n",
            "2       10002   1000002  2021-04-18         58.0   4.2  0.06             74.0   \n",
            "3       10003   1000003  2019-04-05         72.0  13.0  0.18             71.5   \n",
            "4       10004   1000004  2020-10-21         67.0   8.0  0.10             78.0   \n",
            "\n",
            "  case_csPCa  \n",
            "0         NO  \n",
            "1         NO  \n",
            "2         NO  \n",
            "3         NO  \n",
            "4         NO  \n"
          ]
        }
      ],
      "source": [
        "# KNN\n",
        "num_features = ['patient_age', 'psa', 'psad', 'prostate_volume']\n",
        "cols = list(df.columns)\n",
        "k = 3\n",
        "knn_imputer = KNNImputer(n_neighbors=k)\n",
        "df_filled_knn = df.copy()\n",
        "df_filled_knn[num_features] = pd.DataFrame(knn_imputer.fit_transform(df[num_features]), columns=num_features)\n",
        "\n",
        "df_filled_knn = df_filled_knn[cols]\n",
        "for col in ['psa', 'psad', 'prostate_volume']:\n",
        "    df_filled_knn[col] = df_filled_knn[col].astype(float).round(2)\n",
        "print(len(df_filled_knn))\n",
        "print(df_filled_knn.isna().sum())\n",
        "print(df_filled_knn.head())\n",
        "df_filled_knn.to_csv('marksheet_filled_knn.csv', index=False)\n",
        "# X_test_imputed = pd.DataFrame(knn_imputer.transform(X_test), columns=X_test.columns)"
      ]
    },
    {
      "cell_type": "code",
      "execution_count": 7,
      "metadata": {},
      "outputs": [
        {
          "name": "stdout",
          "output_type": "stream",
          "text": [
            "patient_id         0\n",
            "study_id           0\n",
            "mri_date           0\n",
            "patient_age        0\n",
            "psa                0\n",
            "psad               0\n",
            "prostate_volume    0\n",
            "case_csPCa         0\n",
            "dtype: int64\n",
            "   patient_id  study_id    mri_date  patient_age   psa  psad  prostate_volume  \\\n",
            "0       10000   1000000  2019-07-02         73.0   7.7  0.14             55.0   \n",
            "1       10001   1000001  2016-05-27         64.0   8.7  0.09            102.0   \n",
            "2       10002   1000002  2021-04-18         58.0   4.2  0.06             74.0   \n",
            "3       10003   1000003  2019-04-05         72.0  13.0  0.18             71.5   \n",
            "4       10004   1000004  2020-10-21         67.0   8.0  0.10             78.0   \n",
            "\n",
            "  case_csPCa  \n",
            "0         NO  \n",
            "1         NO  \n",
            "2         NO  \n",
            "3         NO  \n",
            "4         NO  \n"
          ]
        }
      ],
      "source": [
        "# Linear Regression\n",
        "imputer = IterativeImputer(estimator=BayesianRidge())\n",
        "df_filled_reg = df.copy()\n",
        "df_filled_reg[num_features] = pd.DataFrame(imputer.fit_transform(df[num_features]), columns=num_features)\n",
        "\n",
        "df_filled_reg = df_filled_reg[cols]\n",
        "for col in ['psa', 'psad', 'prostate_volume']:\n",
        "    df_filled_reg[col] = df_filled_reg[col].astype(float).round(2)\n",
        "print(df_filled_reg.isna().sum())\n",
        "print(df_filled_reg.head())\n",
        "df_filled_reg.to_csv('marksheet_filled_regression.csv', index=False)"
      ]
    },
    {
      "cell_type": "code",
      "execution_count": 8,
      "metadata": {},
      "outputs": [
        {
          "data": {
            "text/plain": [
              "False"
            ]
          },
          "execution_count": 8,
          "metadata": {},
          "output_type": "execute_result"
        }
      ],
      "source": [
        "# df_filled_knn = pd.read_csv(\"marksheet_filled_knn.csv\")\n",
        "df_filled_knn.equals(df_filled_reg)"
      ]
    },
    {
      "cell_type": "code",
      "execution_count": null,
      "metadata": {},
      "outputs": [],
      "source": []
    }
  ],
  "metadata": {
    "colab": {
      "provenance": []
    },
    "kernelspec": {
      "display_name": "Python 3",
      "name": "python3"
    },
    "language_info": {
      "codemirror_mode": {
        "name": "ipython",
        "version": 3
      },
      "file_extension": ".py",
      "mimetype": "text/x-python",
      "name": "python",
      "nbconvert_exporter": "python",
      "pygments_lexer": "ipython3",
      "version": "3.10.13"
    }
  },
  "nbformat": 4,
  "nbformat_minor": 0
}
