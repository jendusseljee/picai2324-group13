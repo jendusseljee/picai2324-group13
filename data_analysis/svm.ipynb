{
 "cells": [
  {
   "cell_type": "code",
   "execution_count": 124,
   "metadata": {},
   "outputs": [],
   "source": [
    "import pandas as pd\n",
    "import numpy as np\n",
    "\n",
    "from sklearn.svm import SVC\n",
    "from sklearn.model_selection import KFold\n",
    "from sklearn.metrics import roc_curve, roc_auc_score, RocCurveDisplay"
   ]
  },
  {
   "cell_type": "code",
   "execution_count": 125,
   "metadata": {},
   "outputs": [
    {
     "name": "stdout",
     "output_type": "stream",
     "text": [
      "Before filtering:\n",
      "1500 cases, 425 cancers\n",
      "After filtering:\n",
      "1040 cases, 298 cancers\n"
     ]
    },
    {
     "data": {
      "text/html": [
       "<div>\n",
       "<style scoped>\n",
       "    .dataframe tbody tr th:only-of-type {\n",
       "        vertical-align: middle;\n",
       "    }\n",
       "\n",
       "    .dataframe tbody tr th {\n",
       "        vertical-align: top;\n",
       "    }\n",
       "\n",
       "    .dataframe thead th {\n",
       "        text-align: right;\n",
       "    }\n",
       "</style>\n",
       "<table border=\"1\" class=\"dataframe\">\n",
       "  <thead>\n",
       "    <tr style=\"text-align: right;\">\n",
       "      <th></th>\n",
       "      <th>patient_id</th>\n",
       "      <th>study_id</th>\n",
       "      <th>mri_date</th>\n",
       "      <th>patient_age</th>\n",
       "      <th>psa</th>\n",
       "      <th>psad</th>\n",
       "      <th>prostate_volume</th>\n",
       "      <th>case_csPCa</th>\n",
       "    </tr>\n",
       "  </thead>\n",
       "  <tbody>\n",
       "    <tr>\n",
       "      <th>1</th>\n",
       "      <td>10001</td>\n",
       "      <td>1000001</td>\n",
       "      <td>2016-05-27</td>\n",
       "      <td>64</td>\n",
       "      <td>8.7</td>\n",
       "      <td>0.09</td>\n",
       "      <td>102.0</td>\n",
       "      <td>False</td>\n",
       "    </tr>\n",
       "    <tr>\n",
       "      <th>2</th>\n",
       "      <td>10002</td>\n",
       "      <td>1000002</td>\n",
       "      <td>2021-04-18</td>\n",
       "      <td>58</td>\n",
       "      <td>4.2</td>\n",
       "      <td>0.06</td>\n",
       "      <td>74.0</td>\n",
       "      <td>False</td>\n",
       "    </tr>\n",
       "    <tr>\n",
       "      <th>4</th>\n",
       "      <td>10004</td>\n",
       "      <td>1000004</td>\n",
       "      <td>2020-10-21</td>\n",
       "      <td>67</td>\n",
       "      <td>8.0</td>\n",
       "      <td>0.10</td>\n",
       "      <td>78.0</td>\n",
       "      <td>False</td>\n",
       "    </tr>\n",
       "    <tr>\n",
       "      <th>5</th>\n",
       "      <td>10005</td>\n",
       "      <td>1000005</td>\n",
       "      <td>2012-07-18</td>\n",
       "      <td>64</td>\n",
       "      <td>12.1</td>\n",
       "      <td>0.24</td>\n",
       "      <td>51.0</td>\n",
       "      <td>True</td>\n",
       "    </tr>\n",
       "    <tr>\n",
       "      <th>6</th>\n",
       "      <td>10006</td>\n",
       "      <td>1000006</td>\n",
       "      <td>2020-10-23</td>\n",
       "      <td>73</td>\n",
       "      <td>6.2</td>\n",
       "      <td>0.23</td>\n",
       "      <td>27.0</td>\n",
       "      <td>False</td>\n",
       "    </tr>\n",
       "  </tbody>\n",
       "</table>\n",
       "</div>"
      ],
      "text/plain": [
       "   patient_id  study_id    mri_date  patient_age   psa  psad  prostate_volume  \\\n",
       "1       10001   1000001  2016-05-27           64   8.7  0.09            102.0   \n",
       "2       10002   1000002  2021-04-18           58   4.2  0.06             74.0   \n",
       "4       10004   1000004  2020-10-21           67   8.0  0.10             78.0   \n",
       "5       10005   1000005  2012-07-18           64  12.1  0.24             51.0   \n",
       "6       10006   1000006  2020-10-23           73   6.2  0.23             27.0   \n",
       "\n",
       "   case_csPCa  \n",
       "1       False  \n",
       "2       False  \n",
       "4       False  \n",
       "5        True  \n",
       "6       False  "
      ]
     },
     "execution_count": 125,
     "metadata": {},
     "output_type": "execute_result"
    }
   ],
   "source": [
    "df = pd.read_csv('marksheet.csv')\n",
    "print(f\"Before filtering:\\n{len(df)} cases, {len(df[df['case_csPCa'] == 'YES'])} cancers\")\n",
    "df = df[['patient_id', 'study_id', 'mri_date', 'patient_age', 'psa', 'psad', 'prostate_volume', 'case_csPCa']]\n",
    "df = df.dropna()\n",
    "print(f\"After filtering:\\n{len(df)} cases, {len(df[df['case_csPCa'] == 'YES'])} cancers\")\n",
    "df['case_csPCa'] = df['case_csPCa'].apply(lambda v: v == 'YES')\n",
    "df.head()"
   ]
  },
  {
   "cell_type": "code",
   "execution_count": 126,
   "metadata": {},
   "outputs": [],
   "source": [
    "kfold = KFold(n_splits=5, shuffle=True, random_state=42)"
   ]
  },
  {
   "cell_type": "code",
   "execution_count": 127,
   "metadata": {},
   "outputs": [],
   "source": [
    "pred_df = pd.DataFrame()\n",
    "\n",
    "for train, val in kfold.split(df):\n",
    "  train_df = df.iloc[train]\n",
    "  val_df = df.iloc[val].copy()\n",
    "\n",
    "  X_train = train_df[['patient_age', 'psa', 'psad', 'prostate_volume']]\n",
    "  y_train = train_df['case_csPCa']\n",
    "  X_val = val_df[['patient_age', 'psa', 'psad', 'prostate_volume']]\n",
    "  y_val = val_df['case_csPCa']\n",
    "\n",
    "  svc = SVC(probability=True, kernel='rbf', gamma=0.0001)\n",
    "  svc.fit(X_train, y_train)\n",
    "\n",
    "  val_df.loc[:, 'pred'] = svc.predict_proba(X_val)[:,1]\n",
    "\n",
    "  pred_df = pd.concat([pred_df, val_df])"
   ]
  },
  {
   "cell_type": "code",
   "execution_count": 128,
   "metadata": {},
   "outputs": [
    {
     "name": "stdout",
     "output_type": "stream",
     "text": [
      "0.7870597333526295\n"
     ]
    }
   ],
   "source": [
    "print(roc_auc_score(pred_df['case_csPCa'], pred_df['pred']))"
   ]
  },
  {
   "cell_type": "code",
   "execution_count": 129,
   "metadata": {},
   "outputs": [],
   "source": [
    "fpr, tpr, thresholds = roc_curve(pred_df['case_csPCa'], pred_df['pred'])"
   ]
  },
  {
   "cell_type": "code",
   "execution_count": 130,
   "metadata": {},
   "outputs": [
    {
     "data": {
      "text/plain": [
       "<sklearn.metrics._plot.roc_curve.RocCurveDisplay at 0x15ec9d070>"
      ]
     },
     "execution_count": 130,
     "metadata": {},
     "output_type": "execute_result"
    },
    {
     "data": {
      "image/png": "[encoded data removed]",
      "text/plain": [
       "<Figure size 640x480 with 1 Axes>"
      ]
     },
     "metadata": {},
     "output_type": "display_data"
    }
   ],
   "source": [
    "display = RocCurveDisplay(fpr=fpr, tpr=tpr, roc_auc=roc_auc_score(pred_df['case_csPCa'], pred_df['pred']), estimator_name='example estimator')\n",
    "display.plot()"
   ]
  }
 ],
 "metadata": {
  "kernelspec": {
   "display_name": "torch-gpu",
   "language": "python",
   "name": "python3"
  },
  "language_info": {
   "codemirror_mode": {
    "name": "ipython",
    "version": 3
   },
   "file_extension": ".py",
   "mimetype": "text/x-python",
   "name": "python",
   "nbconvert_exporter": "python",
   "pygments_lexer": "ipython3",
   "version": "3.8.17"
  }
 },
 "nbformat": 4,
 "nbformat_minor": 2
}
