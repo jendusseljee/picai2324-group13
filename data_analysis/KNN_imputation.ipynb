{
  "nbformat": 4,
  "nbformat_minor": 0,
  "metadata": {
    "colab": {
      "provenance": []
    },
    "kernelspec": {
      "name": "python3",
      "display_name": "Python 3"
    },
    "language_info": {
      "name": "python"
    }
  },
  "cells": [
    {
      "cell_type": "code",
      "execution_count": null,
      "metadata": {
        "id": "VJ8h2qFA384W"
      },
      "outputs": [],
      "source": [
        "import pandas as pd\n",
        "import numpy as np\n",
        "import math\n",
        "import matplotlib.pyplot as plt\n",
        "import json\n",
        "from sklearn.impute import KNNImputer # For imputing missing values using K-Nearest Neighbors\n",
        "from sklearn.neighbors import KNeighborsClassifier # K-Nearest Neighbors classification model\n",
        "from sklearn.model_selection import train_test_split\n",
        "import random\n",
        "from sklearn.preprocessing import LabelEncoder"
      ]
    },
    {
      "cell_type": "code",
      "source": [
        "random.seed(10)\n",
        "\n",
        "df = pd.read_csv('/content/marksheet.csv')\n",
        "cols = list(df.columns)\n",
        "print(len(df))\n",
        "print(df.isna().sum())\n",
        "print(df.head())"
      ],
      "metadata": {
        "colab": {
          "base_uri": "https://localhost:8080/"
        },
        "id": "g8Gt5TFG5vuC",
        "outputId": "9df9b92b-8770-4353-cc39-24d5b2eebc6a"
      },
      "execution_count": null,
      "outputs": [
        {
          "output_type": "stream",
          "name": "stdout",
          "text": [
            "1500\n",
            "patient_id           0\n",
            "study_id             0\n",
            "mri_date             0\n",
            "patient_age          0\n",
            "psa                 40\n",
            "psad               451\n",
            "prostate_volume     27\n",
            "histopath_type     499\n",
            "lesion_GS          499\n",
            "lesion_ISUP        499\n",
            "case_ISUP            0\n",
            "case_csPCa           0\n",
            "dtype: int64\n",
            "   patient_id  study_id    mri_date  patient_age   psa  psad  prostate_volume  \\\n",
            "0       10000   1000000  2019-07-02           73   7.7   NaN             55.0   \n",
            "1       10001   1000001  2016-05-27           64   8.7  0.09            102.0   \n",
            "2       10002   1000002  2021-04-18           58   4.2  0.06             74.0   \n",
            "3       10003   1000003  2019-04-05           72  13.0   NaN             71.5   \n",
            "4       10004   1000004  2020-10-21           67   8.0  0.10             78.0   \n",
            "\n",
            "  histopath_type lesion_GS lesion_ISUP  case_ISUP case_csPCa  \n",
            "0           MRBx       0+0           0          0         NO  \n",
            "1            NaN       NaN         NaN          0         NO  \n",
            "2            NaN       NaN         NaN          0         NO  \n",
            "3          SysBx       0+0           0          0         NO  \n",
            "4     SysBx+MRBx   0+0,0+0         0,0          0         NO  \n"
          ]
        }
      ]
    },
    {
      "cell_type": "code",
      "source": [
        "# filling columns of numerical values\n",
        "num_features = ['patient_age', 'psa', 'psad', 'prostate_volume']\n",
        "k = 3\n",
        "knn_imputer = KNNImputer(n_neighbors=k)\n",
        "df_filled = df\n",
        "df_filled[num_features] = pd.DataFrame(knn_imputer.fit_transform(df[num_features]), columns=num_features)\n",
        "\n",
        "df_filled = df_filled[cols]\n",
        "print(len(df_filled))\n",
        "print(df_filled.isna().sum())\n",
        "print(df_filled.head())\n",
        "df_filled.to_csv('marksheet_filled_numerical.csv', index=False)\n",
        "# X_test_imputed = pd.DataFrame(knn_imputer.transform(X_test), columns=X_test.columns)"
      ],
      "metadata": {
        "colab": {
          "base_uri": "https://localhost:8080/"
        },
        "id": "L8drcryj__yd",
        "outputId": "c0d77f83-f1e2-4bf4-da77-fa0f32bff867"
      },
      "execution_count": null,
      "outputs": [
        {
          "output_type": "stream",
          "name": "stdout",
          "text": [
            "1500\n",
            "patient_id           0\n",
            "study_id             0\n",
            "mri_date             0\n",
            "patient_age          0\n",
            "psa                  0\n",
            "psad                 0\n",
            "prostate_volume      0\n",
            "histopath_type     499\n",
            "lesion_GS          499\n",
            "lesion_ISUP        499\n",
            "case_ISUP            0\n",
            "case_csPCa           0\n",
            "dtype: int64\n",
            "   patient_id  study_id    mri_date  patient_age   psa      psad  \\\n",
            "0       10000   1000000  2019-07-02         73.0   7.7  0.156667   \n",
            "1       10001   1000001  2016-05-27         64.0   8.7  0.090000   \n",
            "2       10002   1000002  2021-04-18         58.0   4.2  0.060000   \n",
            "3       10003   1000003  2019-04-05         72.0  13.0  0.170000   \n",
            "4       10004   1000004  2020-10-21         67.0   8.0  0.100000   \n",
            "\n",
            "   prostate_volume histopath_type lesion_GS lesion_ISUP  case_ISUP case_csPCa  \n",
            "0             55.0           MRBx       0+0           0          0         NO  \n",
            "1            102.0            NaN       NaN         NaN          0         NO  \n",
            "2             74.0            NaN       NaN         NaN          0         NO  \n",
            "3             71.5          SysBx       0+0           0          0         NO  \n",
            "4             78.0     SysBx+MRBx   0+0,0+0         0,0          0         NO  \n"
          ]
        }
      ]
    },
    {
      "cell_type": "code",
      "source": [
        "# encoding categorical variables as numerical labels\n",
        "\n",
        "num_label_features = ['patient_age', 'psa', 'psad', 'prostate_volume', 'histopath_type_encoded', 'lesion_GS_encoded', 'lesion_ISUP_encoded']\n",
        "df_filled = pd.read_csv('/content/marksheet.csv')\n",
        "\n",
        "# Initialize the LabelEncoder\n",
        "label_encoder = LabelEncoder()\n",
        "\n",
        "# Fit and transform the 'hystopath' column\n",
        "df_filled['histopath_type_encoded'] = label_encoder.fit_transform(df_filled['histopath_type'])\n",
        "df_filled['lesion_GS_encoded'] = label_encoder.fit_transform(df_filled['lesion_GS'])\n",
        "df_filled['lesion_ISUP_encoded'] = label_encoder.fit_transform(df_filled['lesion_ISUP'])\n",
        "\n",
        "print(df_filled.head())"
      ],
      "metadata": {
        "colab": {
          "base_uri": "https://localhost:8080/"
        },
        "id": "rb4bvZIIR23k",
        "outputId": "47965fe0-bf17-4405-aaa6-98a40ef4931f"
      },
      "execution_count": null,
      "outputs": [
        {
          "output_type": "stream",
          "name": "stdout",
          "text": [
            "   patient_id  study_id    mri_date  patient_age   psa  psad  prostate_volume  \\\n",
            "0       10000   1000000  2019-07-02           73   7.7   NaN             55.0   \n",
            "1       10001   1000001  2016-05-27           64   8.7  0.09            102.0   \n",
            "2       10002   1000002  2021-04-18           58   4.2  0.06             74.0   \n",
            "3       10003   1000003  2019-04-05           72  13.0   NaN             71.5   \n",
            "4       10004   1000004  2020-10-21           67   8.0  0.10             78.0   \n",
            "\n",
            "  histopath_type lesion_GS lesion_ISUP  case_ISUP case_csPCa  \\\n",
            "0           MRBx       0+0           0          0         NO   \n",
            "1            NaN       NaN         NaN          0         NO   \n",
            "2            NaN       NaN         NaN          0         NO   \n",
            "3          SysBx       0+0           0          0         NO   \n",
            "4     SysBx+MRBx   0+0,0+0         0,0          0         NO   \n",
            "\n",
            "   histopath_type_encoded  lesion_GS_encoded  lesion_ISUP_encoded  \n",
            "0                       0                  0                    0  \n",
            "1                       4                111                   63  \n",
            "2                       4                111                   63  \n",
            "3                       2                  0                    0  \n",
            "4                       3                  1                    1  \n"
          ]
        }
      ]
    },
    {
      "cell_type": "code",
      "source": [
        "k = 3\n",
        "knn_imputer = KNNImputer(n_neighbors=k)\n",
        "df_filled[num_label_features] = pd.DataFrame(knn_imputer.fit_transform(df_filled[num_label_features]), columns=num_label_features)\n",
        "print(len(df_filled))\n",
        "print(df_filled.isna().sum())\n",
        "print(df_filled.head())\n",
        "\n",
        "df_filled = df_filled[cols]\n",
        "print(df_filled.head())\n",
        "df_filled.to_csv('marksheet_filled.csv', index=False)"
      ],
      "metadata": {
        "colab": {
          "base_uri": "https://localhost:8080/"
        },
        "id": "EN3IAv-PzZAS",
        "outputId": "0acb2606-19e7-46eb-e09a-940b7d3e0c1f"
      },
      "execution_count": null,
      "outputs": [
        {
          "output_type": "stream",
          "name": "stdout",
          "text": [
            "1500\n",
            "patient_id                  0\n",
            "study_id                    0\n",
            "mri_date                    0\n",
            "patient_age                 0\n",
            "psa                         0\n",
            "psad                        0\n",
            "prostate_volume             0\n",
            "histopath_type            499\n",
            "lesion_GS                 499\n",
            "lesion_ISUP               499\n",
            "case_ISUP                   0\n",
            "case_csPCa                  0\n",
            "histopath_type_encoded      0\n",
            "lesion_GS_encoded           0\n",
            "lesion_ISUP_encoded         0\n",
            "dtype: int64\n",
            "   patient_id  study_id    mri_date  patient_age   psa      psad  \\\n",
            "0       10000   1000000  2019-07-02         73.0   7.7  0.153333   \n",
            "1       10001   1000001  2016-05-27         64.0   8.7  0.090000   \n",
            "2       10002   1000002  2021-04-18         58.0   4.2  0.060000   \n",
            "3       10003   1000003  2019-04-05         72.0  13.0  0.133333   \n",
            "4       10004   1000004  2020-10-21         67.0   8.0  0.100000   \n",
            "\n",
            "   prostate_volume histopath_type lesion_GS lesion_ISUP  case_ISUP case_csPCa  \\\n",
            "0             55.0           MRBx       0+0           0          0         NO   \n",
            "1            102.0            NaN       NaN         NaN          0         NO   \n",
            "2             74.0            NaN       NaN         NaN          0         NO   \n",
            "3             71.5          SysBx       0+0           0          0         NO   \n",
            "4             78.0     SysBx+MRBx   0+0,0+0         0,0          0         NO   \n",
            "\n",
            "   histopath_type_encoded  lesion_GS_encoded  lesion_ISUP_encoded  \n",
            "0                     0.0                0.0                  0.0  \n",
            "1                     4.0              111.0                 63.0  \n",
            "2                     4.0              111.0                 63.0  \n",
            "3                     2.0                0.0                  0.0  \n",
            "4                     3.0                1.0                  1.0  \n",
            "   patient_id  study_id    mri_date  patient_age   psa      psad  \\\n",
            "0       10000   1000000  2019-07-02         73.0   7.7  0.153333   \n",
            "1       10001   1000001  2016-05-27         64.0   8.7  0.090000   \n",
            "2       10002   1000002  2021-04-18         58.0   4.2  0.060000   \n",
            "3       10003   1000003  2019-04-05         72.0  13.0  0.133333   \n",
            "4       10004   1000004  2020-10-21         67.0   8.0  0.100000   \n",
            "\n",
            "   prostate_volume histopath_type lesion_GS lesion_ISUP  case_ISUP case_csPCa  \n",
            "0             55.0           MRBx       0+0           0          0         NO  \n",
            "1            102.0            NaN       NaN         NaN          0         NO  \n",
            "2             74.0            NaN       NaN         NaN          0         NO  \n",
            "3             71.5          SysBx       0+0           0          0         NO  \n",
            "4             78.0     SysBx+MRBx   0+0,0+0         0,0          0         NO  \n"
          ]
        }
      ]
    },
    {
      "cell_type": "code",
      "source": [
        "# compare marksheet_filled and marksheet_filled_numerical\n",
        "\n",
        "df_filled = pd.read_csv('/content/marksheet_filled.csv')\n",
        "df_filled_numerical = pd.read_csv('/content/marksheet_filled_numerical.csv')\n",
        "\n",
        "print(df_filled.equals(df_filled_numerical))"
      ],
      "metadata": {
        "colab": {
          "base_uri": "https://localhost:8080/"
        },
        "id": "ovV1X-b31y_Y",
        "outputId": "ed97e2c1-232c-47be-9a49-d7312c33117e"
      },
      "execution_count": null,
      "outputs": [
        {
          "output_type": "stream",
          "name": "stdout",
          "text": [
            "False\n",
            "           psa                psad           prostate_volume      \n",
            "          self     other      self     other            self other\n",
            "0          NaN       NaN  0.153333  0.156667             NaN   NaN\n",
            "3          NaN       NaN  0.133333  0.170000             NaN   NaN\n",
            "9          NaN       NaN  0.140000  0.206667             NaN   NaN\n",
            "11         NaN       NaN  0.233333  0.206667             NaN   NaN\n",
            "14    7.333333  5.666667       NaN       NaN             NaN   NaN\n",
            "...        ...       ...       ...       ...             ...   ...\n",
            "1485       NaN       NaN  0.160000  0.060000             NaN   NaN\n",
            "1487       NaN       NaN  0.120000  0.093333             NaN   NaN\n",
            "1489       NaN       NaN  0.100000  0.113333             NaN   NaN\n",
            "1494       NaN       NaN  0.160000  0.166667             NaN   NaN\n",
            "1498       NaN       NaN  0.130000  0.120000             NaN   NaN\n",
            "\n",
            "[439 rows x 6 columns]\n"
          ]
        }
      ]
    },
    {
      "cell_type": "code",
      "source": [
        "# fill nan values of one column\n",
        "# TODO: basically classification\n",
        "col = 'histopath_type'\n",
        "mask = pd.notna(df[col])\n",
        "df_filled = df[mask]\n",
        "df_to_fill = df[~mask]\n",
        "print(df_to_fill.head())\n",
        "# X = df.loc[:, df.columns != col]\n",
        "# y = df[col]\n",
        "# X_train, X_val, y_train, y_val = train_test_split(X, y, test_size=0.2, random_state=random.random())"
      ],
      "metadata": {
        "colab": {
          "base_uri": "https://localhost:8080/"
        },
        "id": "FakgJ9sm5-ud",
        "outputId": "db688335-c88d-4544-f278-0e17e3f0459a"
      },
      "execution_count": null,
      "outputs": [
        {
          "output_type": "stream",
          "name": "stdout",
          "text": [
            "    patient_id  study_id    mri_date  patient_age       psa  psad  \\\n",
            "1        10001   1000001  2016-05-27         64.0  8.700000  0.09   \n",
            "2        10002   1000002  2021-04-18         58.0  4.200000  0.06   \n",
            "10       10010   1000010  2019-05-11         67.0  6.190000  0.08   \n",
            "14       10014   1000014  2020-10-13         48.0  5.666667  0.07   \n",
            "16       10016   1000016  2012-05-26         60.0  8.500000  0.13   \n",
            "\n",
            "    prostate_volume histopath_type lesion_GS lesion_ISUP  case_ISUP case_csPCa  \n",
            "1             102.0            NaN       NaN         NaN          0         NO  \n",
            "2              74.0            NaN       NaN         NaN          0         NO  \n",
            "10             76.0            NaN       NaN         NaN          0         NO  \n",
            "14             62.0            NaN       NaN         NaN          0         NO  \n",
            "16             71.0            NaN       NaN         NaN          0         NO  \n"
          ]
        }
      ]
    }
  ]
}