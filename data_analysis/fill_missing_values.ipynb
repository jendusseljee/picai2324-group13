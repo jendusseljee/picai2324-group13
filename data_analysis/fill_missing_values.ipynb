{
 "cells": [
  {
   "cell_type": "code",
   "execution_count": 2,
   "metadata": {},
   "outputs": [],
   "source": [
    "import pandas as pd\n",
    "import numpy as np"
   ]
  },
  {
   "cell_type": "code",
   "execution_count": 7,
   "metadata": {},
   "outputs": [
    {
     "data": {
      "text/plain": [
       "Index(['psa', 'psad', 'prostate_volume', 'histopath_type', 'lesion_GS',\n",
       "       'lesion_ISUP'],\n",
       "      dtype='object')"
      ]
     },
     "execution_count": 7,
     "metadata": {},
     "output_type": "execute_result"
    }
   ],
   "source": [
    "df = pd.read_csv('marksheet.csv')\n",
    "df.columns[df.isnull().any()]"
   ]
  },
  {
   "cell_type": "code",
   "execution_count": 10,
   "metadata": {},
   "outputs": [
    {
     "data": {
      "text/html": [
       "<div>\n",
       "<style scoped>\n",
       "    .dataframe tbody tr th:only-of-type {\n",
       "        vertical-align: middle;\n",
       "    }\n",
       "\n",
       "    .dataframe tbody tr th {\n",
       "        vertical-align: top;\n",
       "    }\n",
       "\n",
       "    .dataframe thead th {\n",
       "        text-align: right;\n",
       "    }\n",
       "</style>\n",
       "<table border=\"1\" class=\"dataframe\">\n",
       "  <thead>\n",
       "    <tr style=\"text-align: right;\">\n",
       "      <th></th>\n",
       "      <th>patient_id</th>\n",
       "      <th>study_id</th>\n",
       "      <th>mri_date</th>\n",
       "      <th>patient_age</th>\n",
       "      <th>psa</th>\n",
       "      <th>psad</th>\n",
       "      <th>prostate_volume</th>\n",
       "      <th>histopath_type</th>\n",
       "      <th>lesion_GS</th>\n",
       "      <th>lesion_ISUP</th>\n",
       "      <th>case_ISUP</th>\n",
       "      <th>case_csPCa</th>\n",
       "    </tr>\n",
       "  </thead>\n",
       "  <tbody>\n",
       "    <tr>\n",
       "      <th>0</th>\n",
       "      <td>10000</td>\n",
       "      <td>1000000</td>\n",
       "      <td>2019-07-02</td>\n",
       "      <td>73</td>\n",
       "      <td>7.7</td>\n",
       "      <td>NaN</td>\n",
       "      <td>55.0</td>\n",
       "      <td>MRBx</td>\n",
       "      <td>0+0</td>\n",
       "      <td>0</td>\n",
       "      <td>0</td>\n",
       "      <td>NO</td>\n",
       "    </tr>\n",
       "    <tr>\n",
       "      <th>1</th>\n",
       "      <td>10001</td>\n",
       "      <td>1000001</td>\n",
       "      <td>2016-05-27</td>\n",
       "      <td>64</td>\n",
       "      <td>8.7</td>\n",
       "      <td>0.09</td>\n",
       "      <td>102.0</td>\n",
       "      <td>MRBx</td>\n",
       "      <td>0+0</td>\n",
       "      <td>0</td>\n",
       "      <td>0</td>\n",
       "      <td>NO</td>\n",
       "    </tr>\n",
       "    <tr>\n",
       "      <th>2</th>\n",
       "      <td>10002</td>\n",
       "      <td>1000002</td>\n",
       "      <td>2021-04-18</td>\n",
       "      <td>58</td>\n",
       "      <td>4.2</td>\n",
       "      <td>0.06</td>\n",
       "      <td>74.0</td>\n",
       "      <td>MRBx</td>\n",
       "      <td>0+0</td>\n",
       "      <td>0</td>\n",
       "      <td>0</td>\n",
       "      <td>NO</td>\n",
       "    </tr>\n",
       "    <tr>\n",
       "      <th>3</th>\n",
       "      <td>10003</td>\n",
       "      <td>1000003</td>\n",
       "      <td>2019-04-05</td>\n",
       "      <td>72</td>\n",
       "      <td>13.0</td>\n",
       "      <td>NaN</td>\n",
       "      <td>71.5</td>\n",
       "      <td>SysBx</td>\n",
       "      <td>0+0</td>\n",
       "      <td>0</td>\n",
       "      <td>0</td>\n",
       "      <td>NO</td>\n",
       "    </tr>\n",
       "    <tr>\n",
       "      <th>4</th>\n",
       "      <td>10004</td>\n",
       "      <td>1000004</td>\n",
       "      <td>2020-10-21</td>\n",
       "      <td>67</td>\n",
       "      <td>8.0</td>\n",
       "      <td>0.10</td>\n",
       "      <td>78.0</td>\n",
       "      <td>SysBx+MRBx</td>\n",
       "      <td>0+0,0+0</td>\n",
       "      <td>0,0</td>\n",
       "      <td>0</td>\n",
       "      <td>NO</td>\n",
       "    </tr>\n",
       "  </tbody>\n",
       "</table>\n",
       "</div>"
      ],
      "text/plain": [
       "   patient_id  study_id    mri_date  patient_age   psa  psad  prostate_volume  \\\n",
       "0       10000   1000000  2019-07-02           73   7.7   NaN             55.0   \n",
       "1       10001   1000001  2016-05-27           64   8.7  0.09            102.0   \n",
       "2       10002   1000002  2021-04-18           58   4.2  0.06             74.0   \n",
       "3       10003   1000003  2019-04-05           72  13.0   NaN             71.5   \n",
       "4       10004   1000004  2020-10-21           67   8.0  0.10             78.0   \n",
       "\n",
       "  histopath_type lesion_GS lesion_ISUP  case_ISUP case_csPCa  \n",
       "0           MRBx       0+0           0          0         NO  \n",
       "1           MRBx       0+0           0          0         NO  \n",
       "2           MRBx       0+0           0          0         NO  \n",
       "3          SysBx       0+0           0          0         NO  \n",
       "4     SysBx+MRBx   0+0,0+0         0,0          0         NO  "
      ]
     },
     "execution_count": 10,
     "metadata": {},
     "output_type": "execute_result"
    }
   ],
   "source": [
    "categorical_columns = ['histopath_type', 'lesion_GS', 'lesion_ISUP']\n",
    "numerical_columns = ['psa', 'psad', 'prostate_volume']\n",
    "df.head()"
   ]
  },
  {
   "cell_type": "code",
   "execution_count": 6,
   "metadata": {},
   "outputs": [
    {
     "data": {
      "text/plain": [
       "Index(['psa', 'psad', 'prostate_volume'], dtype='object')"
      ]
     },
     "execution_count": 6,
     "metadata": {},
     "output_type": "execute_result"
    }
   ],
   "source": [
    "# One option is to fill the missing categorical values with a new category\n",
    "for col in categorical_columns:\n",
    "    df[col] = df[col].fillna('unknown')\n",
    "df.columns[df.isnull().any()]\n"
   ]
  },
  {
   "cell_type": "code",
   "execution_count": 9,
   "metadata": {},
   "outputs": [
    {
     "data": {
      "text/plain": [
       "Index(['psa', 'psad', 'prostate_volume'], dtype='object')"
      ]
     },
     "execution_count": 9,
     "metadata": {},
     "output_type": "execute_result"
    }
   ],
   "source": [
    "# Another option is to fill the missing categorical values with the most frequent value of that column (mode)\n",
    "for col in categorical_columns:\n",
    "    df[col] = df[col].fillna(df[col].mode()[0])\n",
    "df.columns[df.isnull().any()]"
   ]
  },
  {
   "cell_type": "code",
   "execution_count": null,
   "metadata": {},
   "outputs": [],
   "source": []
  }
 ],
 "metadata": {
  "kernelspec": {
   "display_name": "Python 3",
   "language": "python",
   "name": "python3"
  },
  "language_info": {
   "codemirror_mode": {
    "name": "ipython",
    "version": 3
   },
   "file_extension": ".py",
   "mimetype": "text/x-python",
   "name": "python",
   "nbconvert_exporter": "python",
   "pygments_lexer": "ipython3",
   "version": "3.10.12"
  }
 },
 "nbformat": 4,
 "nbformat_minor": 2
}
