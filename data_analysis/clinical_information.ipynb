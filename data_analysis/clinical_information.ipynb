{
 "cells": [
  {
   "cell_type": "code",
   "execution_count": 22,
   "metadata": {},
   "outputs": [],
   "source": [
    "import pandas as pd\n",
    "import numpy as np"
   ]
  },
  {
   "cell_type": "code",
   "execution_count": 2,
   "metadata": {},
   "outputs": [],
   "source": [
    "marksheet = pd.read_csv('marksheet.csv')"
   ]
  },
  {
   "cell_type": "code",
   "execution_count": 31,
   "metadata": {},
   "outputs": [],
   "source": [
    "def print_stats(df, variable):\n",
    "  print(variable)\n",
    "\n",
    "  print('Cancer:')\n",
    "  v = np.array(df[(df[variable].notnull()) & (df['case_csPCa'] == 'YES')][variable])\n",
    "  print(f'Min: {v.min()}\\nMax: {v.max()}\\nMean: {v.mean():.2f}\\nMedian: {np.median(v):.2f}\\nStd: {v.std():.2f}')\n",
    "\n",
    "  print('No cancer:')\n",
    "  v = np.array(df[(df[variable].notnull()) & (df['case_csPCa'] == 'NO')][variable])\n",
    "  print(f'Min: {v.min()}\\nMax: {v.max()}\\nMean: {v.mean():.2f}\\nMedian: {np.median(v):.2f}\\nStd: {v.std():.2f}\\n')"
   ]
  },
  {
   "cell_type": "code",
   "execution_count": 32,
   "metadata": {},
   "outputs": [
    {
     "name": "stdout",
     "output_type": "stream",
     "text": [
      "psa\n",
      "Cancer:\n",
      "Min: 2.2\n",
      "Max: 210.0\n",
      "Mean: 16.07\n",
      "Median: 10.00\n",
      "Std: 20.68\n",
      "No cancer:\n",
      "Min: 0.1\n",
      "Max: 224.0\n",
      "Mean: 10.29\n",
      "Median: 7.85\n",
      "Std: 11.48\n",
      "\n",
      "psad\n",
      "Cancer:\n",
      "Min: 0.04\n",
      "Max: 6.0\n",
      "Mean: 0.37\n",
      "Median: 0.22\n",
      "Std: 0.53\n",
      "No cancer:\n",
      "Min: 0.01\n",
      "Max: 7.0\n",
      "Mean: 0.17\n",
      "Median: 0.12\n",
      "Std: 0.32\n",
      "\n",
      "prostate_volume\n",
      "Cancer:\n",
      "Min: 4.0\n",
      "Max: 200.0\n",
      "Mean: 52.95\n",
      "Median: 48.00\n",
      "Std: 26.80\n",
      "No cancer:\n",
      "Min: 10.0\n",
      "Max: 308.0\n",
      "Mean: 69.79\n",
      "Median: 61.00\n",
      "Std: 38.56\n",
      "\n"
     ]
    }
   ],
   "source": [
    "print_stats(marksheet, 'psa')\n",
    "print_stats(marksheet, 'psad')\n",
    "print_stats(marksheet, 'prostate_volume')"
   ]
  }
 ],
 "metadata": {
  "kernelspec": {
   "display_name": "torch-gpu",
   "language": "python",
   "name": "python3"
  },
  "language_info": {
   "codemirror_mode": {
    "name": "ipython",
    "version": 3
   },
   "file_extension": ".py",
   "mimetype": "text/x-python",
   "name": "python",
   "nbconvert_exporter": "python",
   "pygments_lexer": "ipython3",
   "version": "3.8.17"
  }
 },
 "nbformat": 4,
 "nbformat_minor": 2
}
